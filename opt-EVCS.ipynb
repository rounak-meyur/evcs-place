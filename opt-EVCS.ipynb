{
 "cells": [
  {
   "cell_type": "code",
   "execution_count": 3,
   "id": "910165bd-57e3-4350-96d3-2b7d840528bb",
   "metadata": {},
   "outputs": [
    {
     "name": "stdout",
     "output_type": "stream",
     "text": [
      "EVCS(cord={'F1': (-80.44049, 37.23096), 'F2': (-80.42789, 37.24244), 'F3': (-80.43409, 37.23162), 'F4': (-80.43294, 37.2317), 'F5': (-80.4379, 37.23711), 'F6': (-80.42837, 37.24963), 'F7': (-80.42663, 37.2379), 'F8': (-80.43163, 37.23156), 'F9': (-80.42990999999999, 37.23132)}, demand={'F1': 29100.0, 'F2': 205500.0, 'F3': 2550.0, 'F4': 450.0, 'F5': 106650.0, 'F6': 72750.0, 'F7': 29850.0, 'F8': 4650.0, 'F9': 5400.0})\n"
     ]
    }
   ],
   "source": [
    "import sys, os\n",
    "import networkx as nx\n",
    "\n",
    "from pyEVCSlib import EVCSFixture\n",
    "\n",
    "# get fixture\n",
    "fx = EVCSFixture('runTest')\n",
    "fx.out_dir = \"out/script\"\n",
    "fx.fig_dir = \"figs/script\"\n",
    "\n",
    "fx.demand = 3600.0 / 24.0\n",
    "fx.connection = 'optimal'\n",
    "\n",
    "net, evcs = fx.read_inputs('Area 2')\n",
    "print(evcs)\n",
    "\n"
   ]
  },
  {
   "cell_type": "code",
   "execution_count": 4,
   "id": "e1df0aa5",
   "metadata": {},
   "outputs": [
    {
     "ename": "SolverError",
     "evalue": "Solver 'GUROBI' failed. Try another solver, or solve with verbose=True for more information.",
     "output_type": "error",
     "traceback": [
      "\u001b[0;31m---------------------------------------------------------------------------\u001b[0m",
      "\u001b[0;31mSolverError\u001b[0m                               Traceback (most recent call last)",
      "\u001b[0;32m/var/folders/l2/vzp36c0120vcl80b__91ccd40000gn/T/ipykernel_45222/3014866048.py\u001b[0m in \u001b[0;36m<module>\u001b[0;34m\u001b[0m\n\u001b[0;32m----> 1\u001b[0;31m synth_net = fx.connect_evcs(\n\u001b[0m\u001b[1;32m      2\u001b[0m     \u001b[0mnet\u001b[0m\u001b[0;34m,\u001b[0m \u001b[0mevcs\u001b[0m\u001b[0;34m,\u001b[0m\u001b[0;34m\u001b[0m\u001b[0;34m\u001b[0m\u001b[0m\n\u001b[1;32m      3\u001b[0m     \u001b[0mconnection\u001b[0m\u001b[0;34m=\u001b[0m\u001b[0;34m\"optimal\"\u001b[0m\u001b[0;34m,\u001b[0m\u001b[0;34m\u001b[0m\u001b[0;34m\u001b[0m\u001b[0m\n\u001b[1;32m      4\u001b[0m     \u001b[0mlambda_\u001b[0m \u001b[0;34m=\u001b[0m \u001b[0;36m1e3\u001b[0m\u001b[0;34m,\u001b[0m\u001b[0;34m\u001b[0m\u001b[0;34m\u001b[0m\u001b[0m\n\u001b[1;32m      5\u001b[0m     epsilon = 1e-2,)\n",
      "\u001b[0;32m~/Library/CloudStorage/OneDrive-PNNL/Documents/projects/evcs-place/pyEVCSlib.py\u001b[0m in \u001b[0;36mconnect_evcs\u001b[0;34m(self, synth_net, evcs, connection, **kwargs)\u001b[0m\n\u001b[1;32m    298\u001b[0m \u001b[0;34m\u001b[0m\u001b[0m\n\u001b[1;32m    299\u001b[0m         \u001b[0;32melif\u001b[0m \u001b[0mconnection\u001b[0m \u001b[0;34m==\u001b[0m \u001b[0;34m\"optimal\"\u001b[0m\u001b[0;34m:\u001b[0m\u001b[0;34m\u001b[0m\u001b[0;34m\u001b[0m\u001b[0m\n\u001b[0;32m--> 300\u001b[0;31m             new_edges = self.connect_optimal_road(\n\u001b[0m\u001b[1;32m    301\u001b[0m                 synth_net, evcs, self.grb_dir, epsilon=eps, lambda_=lambda_)\n\u001b[1;32m    302\u001b[0m \u001b[0;34m\u001b[0m\u001b[0m\n",
      "\u001b[0;32m~/Library/CloudStorage/OneDrive-PNNL/Documents/projects/evcs-place/pyEVCSlib.py\u001b[0m in \u001b[0;36mconnect_optimal_road\u001b[0;34m(net, points, path, epsilon, lambda_)\u001b[0m\n\u001b[1;32m    247\u001b[0m \u001b[0;34m\u001b[0m\u001b[0m\n\u001b[1;32m    248\u001b[0m         \u001b[0;31m# Solve optimization problem to get the best candidate\u001b[0m\u001b[0;34m\u001b[0m\u001b[0;34m\u001b[0m\u001b[0m\n\u001b[0;32m--> 249\u001b[0;31m         add_edges = get_optimal_routing(\n\u001b[0m\u001b[1;32m    250\u001b[0m             net, dict(zip(candidates,distance)), points, path, lambda_=lambda_)\n\u001b[1;32m    251\u001b[0m         \u001b[0;32mreturn\u001b[0m \u001b[0madd_edges\u001b[0m\u001b[0;34m\u001b[0m\u001b[0;34m\u001b[0m\u001b[0m\n",
      "\u001b[0;32m~/Library/CloudStorage/OneDrive-PNNL/Documents/projects/evcs-place/pyLPSolverlib.py\u001b[0m in \u001b[0;36mget_optimal_routing\u001b[0;34m(synt_net, candidate_edges, evcs, path, v0, lambda_)\u001b[0m\n\u001b[1;32m    253\u001b[0m     \u001b[0;31m# Solve model and capture solution information\u001b[0m\u001b[0;34m\u001b[0m\u001b[0;34m\u001b[0m\u001b[0m\n\u001b[1;32m    254\u001b[0m     \u001b[0mprob\u001b[0m \u001b[0;34m=\u001b[0m \u001b[0mcp\u001b[0m\u001b[0;34m.\u001b[0m\u001b[0mProblem\u001b[0m\u001b[0;34m(\u001b[0m\u001b[0mobjective\u001b[0m\u001b[0;34m,\u001b[0m \u001b[0mconstraints\u001b[0m\u001b[0;34m)\u001b[0m\u001b[0;34m\u001b[0m\u001b[0;34m\u001b[0m\u001b[0m\n\u001b[0;32m--> 255\u001b[0;31m     \u001b[0mprob\u001b[0m\u001b[0;34m.\u001b[0m\u001b[0msolve\u001b[0m\u001b[0;34m(\u001b[0m\u001b[0;34m)\u001b[0m\u001b[0;34m\u001b[0m\u001b[0;34m\u001b[0m\u001b[0m\n\u001b[0m\u001b[1;32m    256\u001b[0m \u001b[0;34m\u001b[0m\u001b[0m\n\u001b[1;32m    257\u001b[0m     \u001b[0;31m# get the solution\u001b[0m\u001b[0;34m\u001b[0m\u001b[0;34m\u001b[0m\u001b[0m\n",
      "\u001b[0;32m~/opt/anaconda3/envs/rounak/lib/python3.10/site-packages/cvxpy/problems/problem.py\u001b[0m in \u001b[0;36msolve\u001b[0;34m(self, *args, **kwargs)\u001b[0m\n\u001b[1;32m    491\u001b[0m         \u001b[0;32melse\u001b[0m\u001b[0;34m:\u001b[0m\u001b[0;34m\u001b[0m\u001b[0;34m\u001b[0m\u001b[0m\n\u001b[1;32m    492\u001b[0m             \u001b[0msolve_func\u001b[0m \u001b[0;34m=\u001b[0m \u001b[0mProblem\u001b[0m\u001b[0;34m.\u001b[0m\u001b[0m_solve\u001b[0m\u001b[0;34m\u001b[0m\u001b[0;34m\u001b[0m\u001b[0m\n\u001b[0;32m--> 493\u001b[0;31m         \u001b[0;32mreturn\u001b[0m \u001b[0msolve_func\u001b[0m\u001b[0;34m(\u001b[0m\u001b[0mself\u001b[0m\u001b[0;34m,\u001b[0m \u001b[0;34m*\u001b[0m\u001b[0margs\u001b[0m\u001b[0;34m,\u001b[0m \u001b[0;34m**\u001b[0m\u001b[0mkwargs\u001b[0m\u001b[0;34m)\u001b[0m\u001b[0;34m\u001b[0m\u001b[0;34m\u001b[0m\u001b[0m\n\u001b[0m\u001b[1;32m    494\u001b[0m \u001b[0;34m\u001b[0m\u001b[0m\n\u001b[1;32m    495\u001b[0m     \u001b[0;34m@\u001b[0m\u001b[0mclassmethod\u001b[0m\u001b[0;34m\u001b[0m\u001b[0;34m\u001b[0m\u001b[0m\n",
      "\u001b[0;32m~/opt/anaconda3/envs/rounak/lib/python3.10/site-packages/cvxpy/problems/problem.py\u001b[0m in \u001b[0;36m_solve\u001b[0;34m(self, solver, warm_start, verbose, gp, qcp, requires_grad, enforce_dpp, ignore_dpp, canon_backend, **kwargs)\u001b[0m\n\u001b[1;32m   1066\u001b[0m         \u001b[0mend\u001b[0m \u001b[0;34m=\u001b[0m \u001b[0mtime\u001b[0m\u001b[0;34m.\u001b[0m\u001b[0mtime\u001b[0m\u001b[0;34m(\u001b[0m\u001b[0;34m)\u001b[0m\u001b[0;34m\u001b[0m\u001b[0;34m\u001b[0m\u001b[0m\n\u001b[1;32m   1067\u001b[0m         \u001b[0mself\u001b[0m\u001b[0;34m.\u001b[0m\u001b[0m_solve_time\u001b[0m \u001b[0;34m=\u001b[0m \u001b[0mend\u001b[0m \u001b[0;34m-\u001b[0m \u001b[0mstart\u001b[0m\u001b[0;34m\u001b[0m\u001b[0;34m\u001b[0m\u001b[0m\n\u001b[0;32m-> 1068\u001b[0;31m         \u001b[0mself\u001b[0m\u001b[0;34m.\u001b[0m\u001b[0munpack_results\u001b[0m\u001b[0;34m(\u001b[0m\u001b[0msolution\u001b[0m\u001b[0;34m,\u001b[0m \u001b[0msolving_chain\u001b[0m\u001b[0;34m,\u001b[0m \u001b[0minverse_data\u001b[0m\u001b[0;34m)\u001b[0m\u001b[0;34m\u001b[0m\u001b[0;34m\u001b[0m\u001b[0m\n\u001b[0m\u001b[1;32m   1069\u001b[0m         \u001b[0;32mif\u001b[0m \u001b[0mverbose\u001b[0m\u001b[0;34m:\u001b[0m\u001b[0;34m\u001b[0m\u001b[0;34m\u001b[0m\u001b[0m\n\u001b[1;32m   1070\u001b[0m             \u001b[0mprint\u001b[0m\u001b[0;34m(\u001b[0m\u001b[0m_FOOTER\u001b[0m\u001b[0;34m)\u001b[0m\u001b[0;34m\u001b[0m\u001b[0;34m\u001b[0m\u001b[0m\n",
      "\u001b[0;32m~/opt/anaconda3/envs/rounak/lib/python3.10/site-packages/cvxpy/problems/problem.py\u001b[0m in \u001b[0;36munpack_results\u001b[0;34m(self, solution, chain, inverse_data)\u001b[0m\n\u001b[1;32m   1391\u001b[0m             \u001b[0mwarnings\u001b[0m\u001b[0;34m.\u001b[0m\u001b[0mwarn\u001b[0m\u001b[0;34m(\u001b[0m\u001b[0mINF_OR_UNB_MESSAGE\u001b[0m\u001b[0;34m)\u001b[0m\u001b[0;34m\u001b[0m\u001b[0;34m\u001b[0m\u001b[0m\n\u001b[1;32m   1392\u001b[0m         \u001b[0;32mif\u001b[0m \u001b[0msolution\u001b[0m\u001b[0;34m.\u001b[0m\u001b[0mstatus\u001b[0m \u001b[0;32min\u001b[0m \u001b[0ms\u001b[0m\u001b[0;34m.\u001b[0m\u001b[0mERROR\u001b[0m\u001b[0;34m:\u001b[0m\u001b[0;34m\u001b[0m\u001b[0;34m\u001b[0m\u001b[0m\n\u001b[0;32m-> 1393\u001b[0;31m             raise error.SolverError(\n\u001b[0m\u001b[1;32m   1394\u001b[0m                     \u001b[0;34m\"Solver '%s' failed. \"\u001b[0m \u001b[0;34m%\u001b[0m \u001b[0mchain\u001b[0m\u001b[0;34m.\u001b[0m\u001b[0msolver\u001b[0m\u001b[0;34m.\u001b[0m\u001b[0mname\u001b[0m\u001b[0;34m(\u001b[0m\u001b[0;34m)\u001b[0m \u001b[0;34m+\u001b[0m\u001b[0;34m\u001b[0m\u001b[0;34m\u001b[0m\u001b[0m\n\u001b[1;32m   1395\u001b[0m                     \u001b[0;34m\"Try another solver, or solve with verbose=True for more \"\u001b[0m\u001b[0;34m\u001b[0m\u001b[0;34m\u001b[0m\u001b[0m\n",
      "\u001b[0;31mSolverError\u001b[0m: Solver 'GUROBI' failed. Try another solver, or solve with verbose=True for more information."
     ]
    }
   ],
   "source": [
    "synth_net = fx.connect_evcs(\n",
    "    net, evcs, \n",
    "    connection=\"optimal\",\n",
    "    lambda_ = 1e3, \n",
    "    epsilon = 1e-2,)"
   ]
  },
  {
   "cell_type": "code",
   "execution_count": null,
   "id": "3642db81-2c4d-4515-9473-8d354462631e",
   "metadata": {},
   "outputs": [],
   "source": [
    "from pyUtilslib import powerflow\n",
    "import matplotlib.pyplot as plt\n",
    "\n",
    "d_nodes = {n:nx.shortest_path_length(net,n,sub,'length') for n in net}\n",
    "color_ = {\"E\":\"blue\", \"P\":\"black\", \"S\":\"red\", \"L\":\"peru\"}\n",
    "\n",
    "fig = plt.figure(figsize = (30,10))\n",
    "ax1 = fig.add_subplot(1,2,1)\n",
    "ax2 = fig.add_subplot(1,2,2)\n",
    "\n",
    "total_load = sum([net.nodes[n][\"load\"] for n in net if net.nodes[n][\"label\"]=='H'])\n",
    "\n",
    "p_EV = 0\n",
    "for n in net_fuel:\n",
    "    net.nodes[n][\"load\"] = p_EV\n",
    "\n",
    "powerflow(net)\n",
    "v_nodes = {n:net.nodes[n][\"voltage\"] for n in net}\n",
    "for edge in net.edges:\n",
    "    ax1.plot([d_nodes[edge[0]],d_nodes[edge[1]]],\n",
    "             [v_nodes[edge[0]],v_nodes[edge[1]]],\n",
    "             color=color_[net.edges[edge][\"label\"]])\n",
    "    \n",
    "factor = 0.4\n",
    "p_EV = factor * total_load / len(net_fuel)\n",
    "for n in net_fuel:\n",
    "    net.nodes[n][\"load\"] = p_EV\n",
    "\n",
    "powerflow(net)\n",
    "v_nodes = {n:net.nodes[n][\"voltage\"] for n in net}\n",
    "for edge in net.edges:\n",
    "    ax2.plot([d_nodes[edge[0]],d_nodes[edge[1]]],\n",
    "             [v_nodes[edge[0]],v_nodes[edge[1]]],\n",
    "             color=color_[net.edges[edge][\"label\"]])"
   ]
  }
 ],
 "metadata": {
  "kernelspec": {
   "display_name": "rounak",
   "language": "python",
   "name": "python3"
  },
  "language_info": {
   "codemirror_mode": {
    "name": "ipython",
    "version": 3
   },
   "file_extension": ".py",
   "mimetype": "text/x-python",
   "name": "python",
   "nbconvert_exporter": "python",
   "pygments_lexer": "ipython3",
   "version": "3.10.4"
  },
  "vscode": {
   "interpreter": {
    "hash": "249a5d5eb36b1dfb8b7211e72fd7877ede7bd697d2a551e55ce8d9424decc210"
   }
  }
 },
 "nbformat": 4,
 "nbformat_minor": 5
}
