{
 "cells": [
  {
   "cell_type": "code",
   "execution_count": 1,
   "id": "910165bd-57e3-4350-96d3-2b7d840528bb",
   "metadata": {},
   "outputs": [
    {
     "name": "stdout",
     "output_type": "stream",
     "text": [
      "EVCS(cord={'F1': (-80.44049, 37.23096), 'F2': (-80.42789, 37.24244), 'F3': (-80.43409, 37.23162), 'F4': (-80.43294, 37.2317), 'F5': (-80.4379, 37.23711), 'F6': (-80.42837, 37.24963), 'F7': (-80.42663, 37.2379), 'F8': (-80.43163, 37.23156), 'F9': (-80.42990999999999, 37.23132)}, demand={'F1': 194, 'F2': 1370, 'F3': 17, 'F4': 3, 'F5': 711, 'F6': 485, 'F7': 199, 'F8': 31, 'F9': 36})\n"
     ]
    }
   ],
   "source": [
    "import sys, os\n",
    "import networkx as nx\n",
    "\n",
    "from pyEVCSlib import EVCSFixture\n",
    "\n",
    "# get fixture\n",
    "fx = EVCSFixture('runTest')\n",
    "fx.out_dir = \"out/script\"\n",
    "fx.fig_dir = \"figs/script\"\n",
    "\n",
    "net, evcs = fx.read_inputs('Area 2')\n",
    "print(evcs)"
   ]
  },
  {
   "cell_type": "code",
   "execution_count": 5,
   "id": "e1df0aa5",
   "metadata": {},
   "outputs": [
    {
     "data": {
      "text/plain": [
       "{'cord': [-80.45919, 37.23739000000001],\n",
       " 'label': 'H',\n",
       " 'load': 769.4879166666668,\n",
       " 'voltage': -9.005562158108093,\n",
       " 'reach': 4001.0844162319404}"
      ]
     },
     "execution_count": 5,
     "metadata": {},
     "output_type": "execute_result"
    }
   ],
   "source": []
  },
  {
   "cell_type": "code",
   "execution_count": null,
   "id": "3642db81-2c4d-4515-9473-8d354462631e",
   "metadata": {},
   "outputs": [],
   "source": [
    "from pyUtilslib import powerflow\n",
    "import matplotlib.pyplot as plt\n",
    "\n",
    "d_nodes = {n:nx.shortest_path_length(net,n,sub,'length') for n in net}\n",
    "color_ = {\"E\":\"blue\", \"P\":\"black\", \"S\":\"red\", \"L\":\"peru\"}\n",
    "\n",
    "fig = plt.figure(figsize = (30,10))\n",
    "ax1 = fig.add_subplot(1,2,1)\n",
    "ax2 = fig.add_subplot(1,2,2)\n",
    "\n",
    "total_load = sum([net.nodes[n][\"load\"] for n in net if net.nodes[n][\"label\"]=='H'])\n",
    "\n",
    "p_EV = 0\n",
    "for n in net_fuel:\n",
    "    net.nodes[n][\"load\"] = p_EV\n",
    "\n",
    "powerflow(net)\n",
    "v_nodes = {n:net.nodes[n][\"voltage\"] for n in net}\n",
    "for edge in net.edges:\n",
    "    ax1.plot([d_nodes[edge[0]],d_nodes[edge[1]]],\n",
    "             [v_nodes[edge[0]],v_nodes[edge[1]]],\n",
    "             color=color_[net.edges[edge][\"label\"]])\n",
    "    \n",
    "factor = 0.4\n",
    "p_EV = factor * total_load / len(net_fuel)\n",
    "for n in net_fuel:\n",
    "    net.nodes[n][\"load\"] = p_EV\n",
    "\n",
    "powerflow(net)\n",
    "v_nodes = {n:net.nodes[n][\"voltage\"] for n in net}\n",
    "for edge in net.edges:\n",
    "    ax2.plot([d_nodes[edge[0]],d_nodes[edge[1]]],\n",
    "             [v_nodes[edge[0]],v_nodes[edge[1]]],\n",
    "             color=color_[net.edges[edge][\"label\"]])"
   ]
  }
 ],
 "metadata": {
  "kernelspec": {
   "display_name": "rounak",
   "language": "python",
   "name": "python3"
  },
  "language_info": {
   "codemirror_mode": {
    "name": "ipython",
    "version": 3
   },
   "file_extension": ".py",
   "mimetype": "text/x-python",
   "name": "python",
   "nbconvert_exporter": "python",
   "pygments_lexer": "ipython3",
   "version": "3.10.4"
  },
  "vscode": {
   "interpreter": {
    "hash": "249a5d5eb36b1dfb8b7211e72fd7877ede7bd697d2a551e55ce8d9424decc210"
   }
  }
 },
 "nbformat": 4,
 "nbformat_minor": 5
}
